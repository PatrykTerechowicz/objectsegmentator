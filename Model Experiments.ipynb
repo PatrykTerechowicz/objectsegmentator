{
 "metadata": {
  "language_info": {
   "codemirror_mode": {
    "name": "ipython",
    "version": 3
   },
   "file_extension": ".py",
   "mimetype": "text/x-python",
   "name": "python",
   "nbconvert_exporter": "python",
   "pygments_lexer": "ipython3",
   "version": "3.9.1"
  },
  "orig_nbformat": 2,
  "kernelspec": {
   "name": "python3",
   "display_name": "Python 3.9.1 64-bit ('base': conda)"
  },
  "interpreter": {
   "hash": "d7e89ebd7b73b51b0c74bada82333a292b904a018284a534baaf819946de7ad3"
  }
 },
 "nbformat": 4,
 "nbformat_minor": 2,
 "cells": [
  {
   "cell_type": "code",
   "execution_count": 1,
   "metadata": {},
   "outputs": [],
   "source": [
    "from model import *\n",
    "import torch\n",
    "def mem(device=None):\n",
    "    print(\"Max Memory occupied by tensors: \", torch.cuda.max_memory_allocated(device=device))\n",
    "    print(\"Max Memory Cached: \", torch.cuda.max_memory_reserved(device=device))\n",
    "    print(\"Current Memory occupied by tensors: \", torch.cuda.max_memory_allocated(device=device))\n",
    "    print(\"Current Memory cached occupied by tensors: \", torch.cuda.memory_reserved(device=device))"
   ]
  },
  {
   "cell_type": "code",
   "execution_count": 2,
   "metadata": {},
   "outputs": [
    {
     "output_type": "stream",
     "name": "stdout",
     "text": [
      "Max Memory occupied by tensors:  0\nMax Memory Cached:  0\nCurrent Memory occupied by tensors:  0\nCurrent Memory cached occupied by tensors:  0\n"
     ]
    }
   ],
   "source": [
    "mem()"
   ]
  },
  {
   "cell_type": "code",
   "execution_count": 3,
   "metadata": {},
   "outputs": [],
   "source": [
    "class Segmentator(nn.Module):\n",
    "    def __init__(self, in_channels=3, layers_settings: List[Tuple] = None, activation_function: Optional[Callable[..., nn.Module]] = None) -> None:\n",
    "        super(Segmentator, self).__init__()\n",
    "        if not layers_settings:\n",
    "            layers_settings = [ # t c n s\n",
    "                    (1, 16, 1, 1),\n",
    "                    (6, 24, 2, 2),\n",
    "                    (6, 32, 3, 1),\n",
    "                    (6, 64, 4, 1),\n",
    "                    (6, 120, 1, 1),\n",
    "                    (6, 320, 1, 1),\n",
    "                    (6, 1, 1, 1)\n",
    "                ]\n",
    "        layers = []\n",
    "        for t, c, n, s in layers_settings:\n",
    "            for i in range(n):\n",
    "                layer = InvertedResidual(in_channels, c, s, t, activation_function=activation_function)\n",
    "                in_channels = c\n",
    "                layers.append(layer)\n",
    "        self.layers = nn.Sequential(*layers)\n",
    "        self.sig = nn.Sigmoid()\n",
    "    \n",
    "    def forward(self, input: Tensor):\n",
    "        small_mask = self.sig(self.layers(input))\n",
    "        B, C, H, W = input.shape\n",
    "        big_mask = F.interpolate(small_mask, size=(H, W))\n",
    "        return big_mask"
   ]
  },
  {
   "cell_type": "code",
   "execution_count": 4,
   "metadata": {},
   "outputs": [
    {
     "output_type": "stream",
     "name": "stdout",
     "text": [
      "Max Memory occupied by tensors:  512\nMax Memory Cached:  2097152\nCurrent Memory occupied by tensors:  512\nCurrent Memory cached occupied by tensors:  2097152\n"
     ]
    }
   ],
   "source": [
    "n = torch.zeros(1).cuda()\n",
    "mem()"
   ]
  },
  {
   "cell_type": "code",
   "execution_count": 10,
   "metadata": {},
   "outputs": [
    {
     "output_type": "execute_result",
     "data": {
      "text/plain": [
       "4.0"
      ]
     },
     "metadata": {},
     "execution_count": 10
    }
   ],
   "source": [
    "32/8"
   ]
  },
  {
   "cell_type": "code",
   "execution_count": null,
   "metadata": {},
   "outputs": [],
   "source": []
  }
 ]
}